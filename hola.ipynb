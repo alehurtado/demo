{
    "cells": [
        {
            "metadata": {},
            "cell_type": "code",
            "source": "\n// @hidden_cell\nimport com.ibm.ibmos2spark.CloudObjectStorage\nvar configurationName = \"os_0385cdb9ff9647e792eaca2f958d6c67_configs\"\ndef getCredentials(): scala.collection.mutable.HashMap[String, String] = {\n    return scala.collection.mutable.HashMap[String, String] (\n    \"endPoint\"->\"https://s3-api.us-geo.objectstorage.service.networklayer.com\",\n    \"apiKey\"->\"W6Tg6I2-iyWR3s8wgi0V9_ZrK7-Jx2hMd7nYgdQo42gs\",\n    \"serviceId\"->\"iam-ServiceId-d031db4a-d5da-4cf0-b657-6776d2487f33\",\n    \"iamServiceEndpoint\" -> \"https://iam.cloud.ibm.com/oidc/token\")\n}\n\nvar cos = new CloudObjectStorage(sc, getCredentials(), configurationName, \"bluemix_cos\")\n\nimport org.apache.spark.sql.SparkSession\nval spark = SparkSession.\n    builder().\n    getOrCreate()\nval dfData1 = spark.\n    read.format(\"org.apache.spark.sql.execution.datasources.csv.CSVFileFormat\").\n    option(\"header\", \"true\").\n    option(\"inferSchema\", \"true\").\n    load(cos.url(\"firstproject-donotdelete-pr-kbx3xyffnjnfyy\", \"Department_for_the_Aging__DFTA__Geriatric_Mental_Health_Contracted_Providers.csv\"))\ndfData1.show(5)\n",
            "execution_count": 5,
            "outputs": [
                {
                    "output_type": "stream",
                    "text": "+--------------------+-------+--------------------+--------------------+--------------------+-----------+------------+--------+---------+------------+-----------+-----------+------------+-----------+------------+-----------+------------+-----------+------------+-----------+------------+-----------+------------+-----------+------------+---------+----------+---------------+----------------+------------+-------+----------+--------------------+--------------------+\n|        ProviderType|DFTA ID|         ProgramName|         SponsorName|      ProgramAddress|ProgramCity|ProgramState|Postcode|  Borough|ProgramPhone|DFTA Funded|MonHourOpen|MonHourClose|TueHourOpen|TueHourClose|WedHourOpen|WedHourClose|ThuHourOpen|ThuHourClose|FriHourOpen|FriHourClose|SatHourOpen|SatHourClose|SunHourOpen|SunHourClose| Latitude| Longitude|Community Board|Council District|Census Tract|    BIN|       BBL|                 NTA|           Location1|\n+--------------------+-------+--------------------+--------------------+--------------------+-----------+------------+--------+---------+------------+-----------+-----------+------------+-----------+------------+-----------+------------+-----------+------------+-----------+------------+-----------+------------+-----------+------------+---------+----------+---------------+----------------+------------+-------+----------+--------------------+--------------------+\n|GERIATRIC MENTAL ...|  5G301|WEILL CORNELL MEN...|WEILL MEDICAL COL...|      478 1st Street|   NEW YORK|          NY|   10010|MANHATTAN|914-997-4333|          Y|      9 :00|       5 :00|      9 :00|       5 :00|      9 :00|       5 :00|      9 :00|       5 :00|      9 :00|       5 :00|      00:00|       00:00|      00:00|       00:00|40.671232|-73.976579|            306|              39|         155|3025180|3010760019|  Park Slope-Gowanus|(40.671232, -73.9...|\n|GERIATRIC MENTAL ...|  3G101|  SPOP MENTAL HEALTH|SERVICE PROGRAM F...|302 WEST 91ST STREET|   NEW YORK|          NY|   10024|MANHATTAN|212-787-7120|          Y|      09:00|       05:00|      09:00|       05:00|      09:00|       05:00|      09:00|       05:00|      09:00|       05:00|      00:00|       00:00|      00:00|       00:00|40.792171|-73.975796|            107|               6|         179|1034085|1012510022|     Upper West Side|(40.792171, -73.9...|\n|GERIATRIC MENTAL ...|  4G801|SAMUEL FIELD MENT...|SAMUEL FIELD YM &...|58-20 Little Neck...|   FLUSHING|          NY|   11362|   QUEENS|718-225-6750|          Y|      8 :00|       4 :00|      8 :00|       4 :00|      8 :00|       4 :00|      8 :00|       4 :00|      8 :00|       4 :00|      00:00|       00:00|      00:00|       00:00|40.761577|-73.723122|            411|              23|      152902|4173029|4083520051|Douglas Manor-Dou...|(40.761577, -73.7...|\n|GERIATRIC MENTAL ...|  1G701|  JASA MENTAL HEALTH|THE JEWISH ASSOCI...|     1 Fordham Plaza|      BRONX|          NY|   10458|    BRONX|718-365-4044|          Y|      09:00|       5 :00|      09:00|       5 :00|      09:00|       5 :00|      09:00|       5 :00|      09:00|       5 :00|      00:00|       00:00|      00:00|       00:00|40.860739|-73.889585|            206|              15|         387|2088325|2030330053|             Belmont|(40.860739, -73.8...|\n+--------------------+-------+--------------------+--------------------+--------------------+-----------+------------+--------+---------+------------+-----------+-----------+------------+-----------+------------+-----------+------------+-----------+------------+-----------+------------+-----------+------------+-----------+------------+---------+----------+---------------+----------------+------------+-------+----------+--------------------+--------------------+\n\n",
                    "name": "stdout"
                },
                {
                    "output_type": "display_data",
                    "data": {
                        "text/plain": "configurationName = os_0385cdb9ff9647e792eaca2f958d6c67_configs\ncos = com.ibm.ibmos2spark.CloudObjectStorage@f69c0f0c\nspark = org.apache.spark.sql.SparkSession@8a93e69\ndfData1 = [ProviderType: string, DFTA ID: string ... 32 more fields]\n"
                    },
                    "metadata": {}
                },
                {
                    "output_type": "display_data",
                    "data": {
                        "text/plain": "getCredentials: ()scala.collection.mutable.HashMap[String,String]\n"
                    },
                    "metadata": {}
                },
                {
                    "output_type": "execute_result",
                    "execution_count": 5,
                    "data": {
                        "text/plain": "[ProviderType: string, DFTA ID: string ... 32 more fields]"
                    },
                    "metadata": {}
                }
            ]
        },
        {
            "metadata": {},
            "cell_type": "code",
            "source": "",
            "execution_count": null,
            "outputs": []
        }
    ],
    "metadata": {
        "kernelspec": {
            "name": "scala",
            "display_name": "Scala 2.12 with Spark",
            "language": "scala"
        },
        "language_info": {
            "mimetype": "text/x-scala",
            "name": "scala",
            "pygments_lexer": "scala",
            "version": "2.12.12",
            "file_extension": ".scala",
            "codemirror_mode": "text/x-scala"
        }
    },
    "nbformat": 4,
    "nbformat_minor": 1
}